{
 "cells": [
  {
   "cell_type": "code",
   "execution_count": 1,
   "metadata": {},
   "outputs": [],
   "source": [
    "%matplotlib inline"
   ]
  },
  {
   "cell_type": "code",
   "execution_count": 6,
   "metadata": {},
   "outputs": [],
   "source": [
    "from pathlib import Path\n",
    "import requests\n",
    "\n",
    "DATA_PATH = Path(\"dataset\")\n",
    "PATH = DATA_PATH / \"mnist\"\n",
    "\n",
    "PATH.mkdir(exist_ok=True, parents=True)\n",
    "\n",
    "URL = \"http://yann.lecun.com/exdb/mnist/\"\n",
    "FILENAME = \"mnist.pkl.gz\"\n",
    "\n",
    "FILENAMES = [\n",
    "    \"train-images-idx3-ubyte.gz\",\n",
    "    \"train-labels-idx1-ubyte.gz\",\n",
    "    \"t10k-images-idx3-ubyte.gz\",\n",
    "    \"t10k-labels-idx1-ubyte.gz\",\n",
    "]\n",
    "\n",
    "for filename in FILENAMES:\n",
    "    file_path = PATH / filename\n",
    "    if not file_path.exists():\n",
    "        response = requests.get(URL + filename)\n",
    "        file_path.open(\"wb\").write(response.content)"
   ]
  },
  {
   "cell_type": "code",
   "execution_count": 12,
   "metadata": {},
   "outputs": [
    {
     "name": "stdout",
     "output_type": "stream",
     "text": [
      "MNIST dataset has been loaded and saved as a pickle file.\n"
     ]
    }
   ],
   "source": [
    "import numpy as np\n",
    "import pickle\n",
    "from pathlib import Path\n",
    "\n",
    "\n",
    "def load_mnist_uncompressed(path, kind=\"train\"):\n",
    "    \"\"\"Load MNIST data from uncompressed files in `path`\"\"\"\n",
    "    labels_path = Path(path) / f\"{kind}-labels-idx1-ubyte\"\n",
    "    images_path = Path(path) / f\"{kind}-images-idx3-ubyte\"\n",
    "\n",
    "    with open(labels_path, \"rb\") as lbpath:\n",
    "        lbpath.read(8)  # Skip the magic number and number of items\n",
    "        labels = np.fromfile(lbpath, dtype=np.uint8)\n",
    "\n",
    "    with open(images_path, \"rb\") as imgpath:\n",
    "        imgpath.read(16)  # Skip the magic number, number of items, rows, and columns\n",
    "        images = np.fromfile(imgpath, dtype=np.uint8).reshape(len(labels), 28, 28)\n",
    "\n",
    "    return images, labels\n",
    "\n",
    "\n",
    "# Set paths\n",
    "DATA_PATH = Path(\"dataset\")\n",
    "PATH = DATA_PATH / \"mnist\"\n",
    "FILENAME = \"mnist.pkl.gz\"\n",
    "\n",
    "# Load data\n",
    "x_train, y_train = load_mnist_uncompressed(PATH, kind=\"train\")\n",
    "x_valid, y_valid = load_mnist_uncompressed(PATH, kind=\"t10k\")\n",
    "\n",
    "# Create gzipped pickle file\n",
    "with open((PATH / FILENAME).as_posix(), \"wb\") as f:\n",
    "    pickle.dump(((x_train, y_train), (x_valid, y_valid)), f)\n",
    "\n",
    "print(\"MNIST dataset has been loaded and saved as a pickle file.\")"
   ]
  },
  {
   "cell_type": "code",
   "execution_count": 26,
   "metadata": {},
   "outputs": [
    {
     "name": "stdout",
     "output_type": "stream",
     "text": [
      "torch.Size([60000, 28, 28])\n",
      "torch.Size([60000])\n",
      "torch.Size([10000, 28, 28])\n",
      "torch.Size([10000])\n"
     ]
    },
    {
     "data": {
      "image/png": "[encoded data removed]",
      "text/plain": [
       "<Figure size 640x480 with 1 Axes>"
      ]
     },
     "metadata": {},
     "output_type": "display_data"
    }
   ],
   "source": [
    "from matplotlib import pyplot\n",
    "import numpy as np\n",
    "\n",
    "pyplot.imshow(x_train[0].reshape((28, 28)), cmap=\"gray\")\n",
    "\n",
    "\n",
    "x_train_flattened = x_train.view(60000, -1)\n",
    "x_valid_flattened = x_valid.view(10000, -1)\n",
    "\n",
    "# x_train[0].shape\n",
    "# 28 * 28 * 1"
   ]
  },
  {
   "cell_type": "code",
   "execution_count": 30,
   "metadata": {},
   "outputs": [
    {
     "name": "stdout",
     "output_type": "stream",
     "text": [
      "tensor([[0, 0, 0,  ..., 0, 0, 0],\n",
      "        [0, 0, 0,  ..., 0, 0, 0],\n",
      "        [0, 0, 0,  ..., 0, 0, 0],\n",
      "        ...,\n",
      "        [0, 0, 0,  ..., 0, 0, 0],\n",
      "        [0, 0, 0,  ..., 0, 0, 0],\n",
      "        [0, 0, 0,  ..., 0, 0, 0]], dtype=torch.uint8) tensor([5, 0, 4,  ..., 5, 6, 8], dtype=torch.uint8)\n",
      "torch.Size([60000, 784])\n",
      "tensor(0, dtype=torch.uint8) tensor(9, dtype=torch.uint8)\n"
     ]
    },
    {
     "name": "stderr",
     "output_type": "stream",
     "text": [
      "/var/folders/qn/q_wdcf6x4kx5w2f12hyjr3700000gn/T/ipykernel_58125/518492739.py:3: UserWarning: To copy construct from a tensor, it is recommended to use sourceTensor.clone().detach() or sourceTensor.clone().detach().requires_grad_(True), rather than torch.tensor(sourceTensor).\n",
      "  x_train_flattened, y_train, x_valid_flattened, y_valid = map(\n"
     ]
    }
   ],
   "source": [
    "import torch\n",
    "\n",
    "x_train_flattened, y_train, x_valid_flattened, y_valid = map(\n",
    "    torch.tensor, (x_train_flattened, y_train, x_valid_flattened, y_valid)\n",
    ")\n",
    "\n",
    "n, c = x_train_flattened.shape\n",
    "x_train_flattened, x_train.shape, y_train.min(), y_train.max()\n",
    "\n",
    "print(x_train_flattened, y_train)\n",
    "print(x_train_flattened.shape)\n",
    "print(y_train.min(), y_train.max())"
   ]
  },
  {
   "cell_type": "code",
   "execution_count": 36,
   "metadata": {},
   "outputs": [
    {
     "name": "stdout",
     "output_type": "stream",
     "text": [
      "tensor(4428.1597, grad_fn=<NllLossBackward0>)\n"
     ]
    }
   ],
   "source": [
    "import torch.nn.functional as F\n",
    "\n",
    "bs = 64\n",
    "xb = x_train_flattened[0:bs].float()\n",
    "yb = y_train[0:bs]\n",
    "weights = torch.randn([784, 10], dtype=torch.float, requires_grad=True)\n",
    "\n",
    "bs = 64\n",
    "bias = torch.zeros(10, requires_grad=True)\n",
    "\n",
    "# 分类\n",
    "loss_func = F.cross_entropy\n",
    "\n",
    "def model(xb):\n",
    "    return xb.mm(weights) + bias\n",
    "\n",
    "\n",
    "print(loss_func(model(xb), yb))"
   ]
  },
  {
   "cell_type": "code",
   "execution_count": 37,
   "metadata": {},
   "outputs": [],
   "source": [
    "from torch import nn\n",
    "\n",
    "\n",
    "class Mnist_NN(nn.Module):\n",
    "    def __init__(self):\n",
    "        super().__init__()\n",
    "        self.hidden1 = nn.Linear(784, 128)\n",
    "        self.hidden2 = nn.Linear(128, 256)\n",
    "        self.out = nn.Linear(256, 10)\n",
    "      \n",
    "    def forward(self, x):\n",
    "        x = F.relu(self.hidden1(x))\n",
    "        x = F.relu(self.hidden2(x))\n",
    "        x = self.out(x)\n",
    "        return x"
   ]
  },
  {
   "cell_type": "code",
   "execution_count": 38,
   "metadata": {},
   "outputs": [
    {
     "name": "stdout",
     "output_type": "stream",
     "text": [
      "Mnist_NN(\n",
      "  (hidden1): Linear(in_features=784, out_features=128, bias=True)\n",
      "  (hidden2): Linear(in_features=128, out_features=256, bias=True)\n",
      "  (out): Linear(in_features=256, out_features=10, bias=True)\n",
      ")\n"
     ]
    }
   ],
   "source": [
    "net = Mnist_NN()\n",
    "print(net)"
   ]
  },
  {
   "cell_type": "code",
   "execution_count": 39,
   "metadata": {},
   "outputs": [
    {
     "name": "stdout",
     "output_type": "stream",
     "text": [
      "hidden1.weight Parameter containing:\n",
      "tensor([[-1.0353e-02,  1.6619e-03,  6.2858e-03,  ..., -2.8021e-02,\n",
      "         -6.4393e-03, -4.6741e-03],\n",
      "        [-2.7123e-02,  2.8797e-02, -8.7866e-03,  ...,  7.9236e-04,\n",
      "          1.2759e-02, -1.2016e-02],\n",
      "        [-2.1137e-02,  2.9402e-02, -3.3798e-02,  ...,  1.8542e-02,\n",
      "          3.3231e-02, -2.3579e-02],\n",
      "        ...,\n",
      "        [ 9.3111e-03, -1.8097e-02, -2.1802e-02,  ..., -1.1664e-02,\n",
      "         -1.4766e-03,  3.1759e-02],\n",
      "        [-1.6731e-02, -2.5298e-02,  5.5864e-03,  ...,  3.1453e-02,\n",
      "         -1.9730e-02,  1.2419e-02],\n",
      "        [ 1.3195e-02, -2.1649e-02, -3.5688e-02,  ..., -6.3421e-03,\n",
      "         -3.1510e-05,  3.4876e-02]], requires_grad=True) torch.Size([128, 784])\n",
      "hidden1.bias Parameter containing:\n",
      "tensor([ 0.0069, -0.0301,  0.0029,  0.0058, -0.0003,  0.0327,  0.0296,  0.0066,\n",
      "         0.0044,  0.0331,  0.0011,  0.0287,  0.0158,  0.0306, -0.0344, -0.0231,\n",
      "         0.0243, -0.0052,  0.0272, -0.0127, -0.0203, -0.0234, -0.0242, -0.0110,\n",
      "         0.0157, -0.0157, -0.0239,  0.0312,  0.0012, -0.0012,  0.0137, -0.0131,\n",
      "         0.0086,  0.0207,  0.0270,  0.0248,  0.0150, -0.0327,  0.0060, -0.0020,\n",
      "        -0.0108, -0.0135,  0.0164,  0.0078,  0.0294, -0.0015, -0.0055,  0.0010,\n",
      "         0.0140,  0.0107,  0.0123,  0.0059,  0.0345,  0.0095, -0.0001, -0.0345,\n",
      "        -0.0037, -0.0046, -0.0290,  0.0184, -0.0189,  0.0303, -0.0049,  0.0173,\n",
      "        -0.0141,  0.0133, -0.0080,  0.0135, -0.0171, -0.0278,  0.0251,  0.0295,\n",
      "        -0.0026, -0.0302,  0.0018, -0.0234, -0.0093, -0.0147,  0.0150,  0.0086,\n",
      "        -0.0230, -0.0103, -0.0164,  0.0079,  0.0073, -0.0158,  0.0010, -0.0220,\n",
      "        -0.0102,  0.0113,  0.0098,  0.0220,  0.0058, -0.0029,  0.0061,  0.0227,\n",
      "         0.0074,  0.0264,  0.0089, -0.0246, -0.0333, -0.0199,  0.0328, -0.0120,\n",
      "         0.0141,  0.0089,  0.0163, -0.0300, -0.0238,  0.0248, -0.0180,  0.0193,\n",
      "         0.0315, -0.0143, -0.0127, -0.0260,  0.0139,  0.0003,  0.0153,  0.0011,\n",
      "         0.0305,  0.0193, -0.0226,  0.0083,  0.0311,  0.0062, -0.0098, -0.0056],\n",
      "       requires_grad=True) torch.Size([128])\n",
      "hidden2.weight Parameter containing:\n",
      "tensor([[-0.0063,  0.0417, -0.0282,  ..., -0.0643, -0.0623,  0.0469],\n",
      "        [ 0.0762,  0.0881, -0.0059,  ..., -0.0593,  0.0118,  0.0566],\n",
      "        [ 0.0043,  0.0039,  0.0668,  ..., -0.0101,  0.0762,  0.0850],\n",
      "        ...,\n",
      "        [ 0.0223,  0.0769, -0.0098,  ..., -0.0720, -0.0586,  0.0802],\n",
      "        [ 0.0657,  0.0491, -0.0507,  ...,  0.0187,  0.0190, -0.0462],\n",
      "        [-0.0446, -0.0090, -0.0687,  ...,  0.0002, -0.0390, -0.0077]],\n",
      "       requires_grad=True) torch.Size([256, 128])\n",
      "hidden2.bias Parameter containing:\n",
      "tensor([ 1.2117e-05,  5.7720e-03, -6.1195e-02, -7.0340e-02,  5.8838e-02,\n",
      "        -7.5247e-02,  6.9140e-02, -7.1351e-02, -4.7882e-02,  4.7544e-02,\n",
      "        -7.9503e-02,  4.8941e-03, -7.4023e-02, -7.8171e-02, -6.2740e-02,\n",
      "        -1.0566e-02, -2.1013e-02, -7.8164e-02, -1.6802e-02, -8.4532e-02,\n",
      "        -6.3983e-03,  3.3670e-02, -7.0843e-02,  8.3020e-02,  1.9402e-03,\n",
      "        -2.8913e-02, -8.7361e-02,  2.0337e-02, -8.6706e-02,  5.5319e-02,\n",
      "        -3.7985e-02, -3.9576e-02, -3.0871e-02,  2.0362e-02,  3.0964e-02,\n",
      "        -1.8431e-02, -4.8733e-02, -8.5354e-02,  3.7105e-02,  2.3671e-02,\n",
      "        -5.0923e-02,  2.5526e-02,  4.7994e-02, -5.8569e-02, -8.2105e-02,\n",
      "         9.3728e-03, -5.5552e-02, -3.9985e-02,  1.8108e-02,  7.9496e-02,\n",
      "        -2.6875e-02,  7.9968e-02, -6.6645e-03,  5.7309e-02, -6.0843e-02,\n",
      "        -7.7274e-02,  5.3549e-02, -8.0306e-02, -8.2682e-02, -8.8199e-02,\n",
      "        -1.9129e-02, -2.0296e-02,  2.0838e-02,  1.5514e-03,  1.5163e-02,\n",
      "         1.5443e-02, -4.0996e-02, -2.7449e-02, -4.9432e-02, -4.5207e-03,\n",
      "         2.4758e-02,  6.4815e-02, -6.1203e-02,  2.4553e-02, -3.7022e-02,\n",
      "        -5.6358e-02,  7.9178e-02, -3.2792e-02, -6.5097e-03,  5.0177e-02,\n",
      "         5.3173e-02,  6.7448e-03, -6.6083e-02, -5.0885e-03, -2.6675e-02,\n",
      "         4.4120e-02, -6.2433e-03, -4.0294e-02, -2.1176e-02,  1.9240e-03,\n",
      "         8.0570e-02, -3.7319e-02, -7.4951e-02,  7.8683e-02, -6.3746e-02,\n",
      "        -8.1869e-03,  8.3998e-02,  4.4779e-02,  2.0050e-02,  3.2296e-02,\n",
      "         4.5604e-03, -5.4483e-02, -5.3383e-02, -4.5202e-02, -6.7090e-03,\n",
      "        -5.8473e-02, -8.5045e-02, -8.0045e-02,  6.1288e-03, -4.7465e-02,\n",
      "        -6.1234e-02,  5.2692e-02, -7.2086e-03, -5.7765e-02,  7.4593e-02,\n",
      "         2.6657e-02, -8.2626e-02, -7.9930e-02, -1.2442e-02, -1.9935e-02,\n",
      "         1.6161e-02, -7.3261e-02,  1.7587e-02, -8.8057e-02,  6.8215e-02,\n",
      "        -5.7017e-02,  2.6223e-02, -3.7359e-02,  1.4920e-02,  9.9569e-03,\n",
      "        -8.4074e-02,  4.0606e-02,  8.3181e-02, -3.5230e-02,  7.3737e-02,\n",
      "        -2.0264e-02,  2.4789e-02,  6.9653e-02, -3.7637e-02, -4.0157e-02,\n",
      "         1.4228e-02, -2.7677e-02,  2.4515e-02,  1.0681e-02,  3.6801e-02,\n",
      "         3.9430e-02, -6.5674e-02,  6.7337e-03, -4.0026e-02,  3.6006e-02,\n",
      "        -4.1629e-02, -5.4742e-02, -8.5532e-02, -6.3299e-02,  8.5243e-02,\n",
      "         5.6272e-02, -7.5681e-02,  4.9367e-02,  1.9546e-02, -1.4590e-02,\n",
      "        -2.1146e-02, -1.7439e-02, -5.9502e-03, -7.0338e-02,  4.1446e-02,\n",
      "         5.5974e-02, -5.3202e-02,  8.4153e-02,  2.3044e-02,  4.9938e-02,\n",
      "         1.7668e-03,  5.4372e-02, -5.8252e-02, -1.3845e-02, -8.0319e-02,\n",
      "         4.7028e-02, -5.2692e-02,  6.7690e-02, -6.7532e-02, -1.5815e-02,\n",
      "        -7.9329e-02,  2.6125e-02, -1.5855e-02,  1.5359e-02,  3.5182e-02,\n",
      "         4.6047e-02,  1.9371e-03, -7.3753e-02, -7.2711e-02, -1.5017e-02,\n",
      "         1.2893e-02,  7.3877e-02,  6.4660e-02, -2.8398e-03,  4.3894e-02,\n",
      "        -6.2087e-02,  7.3854e-02,  2.8491e-02, -4.4838e-02, -8.5587e-02,\n",
      "         1.5095e-02, -6.6665e-02,  1.2768e-02,  4.6236e-02,  2.1183e-03,\n",
      "         7.9266e-02,  3.2744e-02, -2.7333e-02,  6.0190e-02, -8.7708e-05,\n",
      "         2.7043e-02, -4.6571e-02, -7.6330e-02,  5.0957e-02, -6.4060e-02,\n",
      "        -8.6340e-02, -1.4147e-02,  1.7398e-02, -3.4854e-02,  2.4829e-02,\n",
      "         1.7439e-02,  6.4799e-02,  2.7420e-02, -3.6845e-03,  7.1056e-02,\n",
      "         2.3116e-02,  6.0491e-03,  3.8113e-02, -3.0359e-02, -3.2631e-02,\n",
      "         3.3940e-02, -4.6666e-02,  8.1653e-02, -5.7839e-02,  4.2387e-02,\n",
      "         2.8721e-02,  1.9928e-02,  3.9815e-02,  5.2167e-02, -8.0624e-03,\n",
      "        -8.4123e-02, -5.7605e-02, -5.0861e-02,  7.6898e-02,  4.3777e-02,\n",
      "        -2.0411e-02, -8.4717e-02,  6.8563e-02,  6.8758e-02,  3.4081e-02,\n",
      "         8.6468e-02,  2.3236e-02,  9.7208e-03,  2.1643e-02,  6.5720e-02,\n",
      "        -6.0750e-02], requires_grad=True) torch.Size([256])\n",
      "out.weight Parameter containing:\n",
      "tensor([[-0.0617,  0.0583,  0.0451,  ...,  0.0147, -0.0242,  0.0125],\n",
      "        [-0.0009,  0.0048, -0.0609,  ..., -0.0578, -0.0218,  0.0322],\n",
      "        [-0.0517, -0.0261,  0.0205,  ..., -0.0371,  0.0072,  0.0403],\n",
      "        ...,\n",
      "        [ 0.0363, -0.0515, -0.0016,  ..., -0.0540, -0.0040, -0.0479],\n",
      "        [-0.0558,  0.0156,  0.0477,  ...,  0.0356,  0.0354, -0.0533],\n",
      "        [-0.0053, -0.0078, -0.0240,  ...,  0.0544, -0.0326,  0.0079]],\n",
      "       requires_grad=True) torch.Size([10, 256])\n",
      "out.bias Parameter containing:\n",
      "tensor([ 0.0318,  0.0161, -0.0572, -0.0545, -0.0142,  0.0154, -0.0100,  0.0216,\n",
      "         0.0542,  0.0501], requires_grad=True) torch.Size([10])\n"
     ]
    }
   ],
   "source": [
    "for name, parameter in net.named_parameters():\n",
    "  print(name, parameter, parameter.size())"
   ]
  },
  {
   "cell_type": "code",
   "execution_count": 40,
   "metadata": {},
   "outputs": [],
   "source": [
    "from torch.utils.data import TensorDataset\n",
    "from torch.utils.data import DataLoader\n",
    "\n",
    "train_ds = TensorDataset(x_train_flattened, y_train)\n",
    "train_dl = DataLoader(train_ds, batch_size=bs, shuffle=True)\n",
    "\n",
    "valid_ds = TensorDataset(x_valid_flattened, y_valid)\n",
    "valid_dl = DataLoader(valid_ds, batch_size=bs, shuffle=True)"
   ]
  },
  {
   "cell_type": "code",
   "execution_count": 41,
   "metadata": {},
   "outputs": [],
   "source": [
    "def get_data(train_ds, valid_ds, bs):\n",
    "  return (\n",
    "    DataLoader(train_ds, batch_size=bs, shuffle=True),\n",
    "    DataLoader(valid_ds, batch_size=bs * 2),\n",
    "  )"
   ]
  },
  {
   "cell_type": "code",
   "execution_count": 45,
   "metadata": {},
   "outputs": [],
   "source": [
    "from torch import optim\n",
    "\n",
    "def get_model():\n",
    "    model = Mnist_NN()\n",
    "    return model, optim.SGD(model.parameters(), lr=0.001)"
   ]
  },
  {
   "cell_type": "code",
   "execution_count": 52,
   "metadata": {},
   "outputs": [],
   "source": [
    "def loss_batch(model, loss_func, xb, yb, opt=None):\n",
    "    loss = loss_func(model(xb), yb)\n",
    "\n",
    "    if opt is not None:\n",
    "        loss.backward()\n",
    "        opt.step()\n",
    "        opt.zero_grad()\n",
    "\n",
    "    return loss.item(), len(xb)"
   ]
  },
  {
   "cell_type": "code",
   "execution_count": 55,
   "metadata": {},
   "outputs": [],
   "source": [
    "import numpy as np\n",
    "\n",
    "def fit(steps, model, loss_func, opt, train_dl, valid_dl):\n",
    "    for step in range(steps):\n",
    "        model.train()\n",
    "        for xb, yb in train_dl:\n",
    "            loss_batch(model, loss_func, xb.float(), yb, opt)\n",
    "\n",
    "        model.eval()\n",
    "        with torch.no_grad():\n",
    "            losses, nums = zip(\n",
    "                *[loss_batch(model, loss_func, xb.float(), yb) for xb, yb in valid_dl]\n",
    "            )\n",
    "\n",
    "        val_loss = np.sum(np.multiply(losses, nums)) / np.sum(nums)\n",
    "        print(\"current step: \" + str(step), \"valid loss: \" + str(val_loss))"
   ]
  },
  {
   "cell_type": "code",
   "execution_count": 56,
   "metadata": {},
   "outputs": [
    {
     "name": "stdout",
     "output_type": "stream",
     "text": [
      "current step: 0 valid loss: 0.2840849586546421\n",
      "current step: 1 valid loss: 0.17690196447372436\n",
      "current step: 2 valid loss: 0.15378171720951794\n",
      "current step: 3 valid loss: 0.1779528607904911\n",
      "current step: 4 valid loss: 0.14044759016558528\n",
      "current step: 5 valid loss: 0.12547553565353156\n",
      "current step: 6 valid loss: 0.12787932858504356\n",
      "current step: 7 valid loss: 0.125582380111143\n",
      "current step: 8 valid loss: 0.12037341888602823\n",
      "current step: 9 valid loss: 0.1130837776163593\n",
      "current step: 10 valid loss: 0.1149180659307167\n",
      "current step: 11 valid loss: 0.11023953946456314\n",
      "current step: 12 valid loss: 0.12379688370032237\n",
      "current step: 13 valid loss: 0.11461072848513723\n",
      "current step: 14 valid loss: 0.11098988030506297\n",
      "current step: 15 valid loss: 0.10963634299160913\n",
      "current step: 16 valid loss: 0.11364823824949563\n",
      "current step: 17 valid loss: 0.11219032804258168\n",
      "current step: 18 valid loss: 0.11926562459077686\n",
      "current step: 19 valid loss: 0.11223635627606418\n",
      "current step: 20 valid loss: 0.11292928357184864\n",
      "current step: 21 valid loss: 0.11187249749253969\n",
      "current step: 22 valid loss: 0.11803142343130894\n",
      "current step: 23 valid loss: 0.11252944131416734\n",
      "current step: 24 valid loss: 0.11316650926971343\n"
     ]
    }
   ],
   "source": [
    "train_dl, valid_dl = get_data(train_ds, valid_ds, bs)\n",
    "model, opt = get_model()\n",
    "fit(steps=25, model=model, loss_func=loss_func, opt=opt, train_dl=train_dl, valid_dl=valid_dl)"
   ]
  }
 ],
 "metadata": {
  "kernelspec": {
   "display_name": "Python 3",
   "language": "python",
   "name": "python3"
  },
  "language_info": {
   "codemirror_mode": {
    "name": "ipython",
    "version": 3
   },
   "file_extension": ".py",
   "mimetype": "text/x-python",
   "name": "python",
   "nbconvert_exporter": "python",
   "pygments_lexer": "ipython3",
   "version": "3.11.3"
  }
 },
 "nbformat": 4,
 "nbformat_minor": 2
}
